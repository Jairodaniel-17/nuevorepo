{
 "cells": [
  {
   "cell_type": "code",
   "execution_count": null,
   "metadata": {},
   "outputs": [],
   "source": [
    "num1 = float(input(\"Número A:\"))\n",
    "num2 = float(input(\"Número B:\"))\n",
    "num3 = float(input(\"Número C:\"))\n",
    "\n",
    "numeros = [num1, num2, num3]\n",
    "\n",
    "numeros_ordenados = sorted(numeros)\n",
    "print(\"Datos de entrada:\")\n",
    "print(f\"Número A: {num1}\")\n",
    "print(f\"Número B: {num2}\")\n",
    "print(f\"Número C: {num3}\")\n",
    "print(\"Datos de Salida:\")\n",
    "print(f\"{numeros_ordenados[0]} \\n{numeros_ordenados[1]}\\n{numeros_ordenados[2]}\")"
   ]
  }
 ],
 "metadata": {
  "language_info": {
   "name": "python"
  },
  "orig_nbformat": 4
 },
 "nbformat": 4,
 "nbformat_minor": 2
}
