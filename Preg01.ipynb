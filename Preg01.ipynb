{
 "cells": [
  {
   "cell_type": "code",
   "execution_count": null,
   "metadata": {},
   "outputs": [],
   "source": [
    "horas = int(input(\"Ingrese el número de horas: \"))\n",
    "if horas <= 4:\n",
    "    costo = 6\n",
    "else:\n",
    "    costo = 6 + (horas - 4) * 2\n",
    "\n",
    "print(f\"Datos de entrada: \\nHoras: {horas}\")\n",
    "print(\"Datos de Salida:\")\n",
    "print(\"Importe a pagar es de S/.\" + str(costo) + \" soles\")"
   ]
  }
 ],
 "metadata": {
  "language_info": {
   "name": "python"
  },
  "orig_nbformat": 4
 },
 "nbformat": 4,
 "nbformat_minor": 2
}
